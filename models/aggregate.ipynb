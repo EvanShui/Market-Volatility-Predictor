{
 "cells": [
  {
   "cell_type": "code",
   "execution_count": 3,
   "metadata": {},
   "outputs": [],
   "source": [
    "import sys\n",
    "sys.path.insert(0, '../../data_301_project/')\n",
    "import json\n",
    "import pandas as pd\n",
    "import os\n",
    "\n",
    "def aggregate_data():\n",
    "    with open('data/reddit_data.json', 'r') as f:\n",
    "        reddit_df = pd.DataFrame(json.load(f))\n",
    "    with open('data/articles.json', 'r') as f:\n",
    "        article_df = pd.DataFrame(json.load(f))\n",
    "    print(reddit_df)\n",
    "    print(article_df)\n"
   ]
  },
  {
   "cell_type": "code",
   "execution_count": null,
   "metadata": {},
   "outputs": [],
   "source": []
  }
 ],
 "metadata": {
  "kernelspec": {
   "display_name": "Python 3",
   "language": "python",
   "name": "python3"
  },
  "language_info": {
   "codemirror_mode": {
    "name": "ipython",
    "version": 3
   },
   "file_extension": ".py",
   "mimetype": "text/x-python",
   "name": "python",
   "nbconvert_exporter": "python",
   "pygments_lexer": "ipython3",
   "version": "3.6.5"
  }
 },
 "nbformat": 4,
 "nbformat_minor": 2
}
